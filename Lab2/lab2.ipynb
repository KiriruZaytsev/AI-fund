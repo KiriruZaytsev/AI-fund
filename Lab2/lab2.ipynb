{
 "cells": [
  {
   "cell_type": "code",
   "execution_count": 20,
   "metadata": {},
   "outputs": [],
   "source": [
    "import pygmo as pg\n",
    "import numpy as np\n",
    "import pandas as pd\n",
    "import typing as tp\n",
    "import matplotlib.pyplot as plt"
   ]
  },
  {
   "cell_type": "code",
   "execution_count": 3,
   "metadata": {},
   "outputs": [],
   "source": [
    "def booth_func(x: np.array) -> float:\n",
    "    return (x[0] + 2 * x[1] - 7) ** 2 + (2 * x[0] + x[1] - 5) ** 2"
   ]
  },
  {
   "cell_type": "code",
   "execution_count": 4,
   "metadata": {},
   "outputs": [],
   "source": [
    "def himmelblau_func(x: np.array) -> float:\n",
    "    return (x[0]**2 + x[1] - 11)**2 + (x[0] + x[1]**2 - 7)**2"
   ]
  },
  {
   "cell_type": "markdown",
   "metadata": {},
   "source": [
    "Функция Бута"
   ]
  },
  {
   "cell_type": "code",
   "execution_count": 26,
   "metadata": {},
   "outputs": [],
   "source": [
    "class TestFuncProblem:\n",
    "    '''\n",
    "    Обёртка для задачи поиска минимума функции Бута\n",
    "    '''\n",
    "    def __init__(self,\n",
    "                 func: tp.Callable[[np.array], float],\n",
    "                 bounds: tp.Tuple[tp.List[float], tp.List[float]]):\n",
    "        self.func = func\n",
    "        self.bounds = bounds\n",
    "    \n",
    "\n",
    "    def fitness(self, x):\n",
    "        return [self.func(x)]\n",
    "    \n",
    "    def get_bounds(self):\n",
    "        return self.bounds"
   ]
  },
  {
   "cell_type": "code",
   "execution_count": 8,
   "metadata": {},
   "outputs": [],
   "source": [
    "problem = TestFuncProblem(booth_func,\n",
    "                           ([-10, -10], [10, 10]))"
   ]
  },
  {
   "cell_type": "code",
   "execution_count": 10,
   "metadata": {},
   "outputs": [],
   "source": [
    "prob = pg.problem(problem)\n",
    "pop = pg.population(prob, size=100)"
   ]
  },
  {
   "cell_type": "code",
   "execution_count": 14,
   "metadata": {},
   "outputs": [],
   "source": [
    "algo_sga = pg.algorithm(pg.sga(gen=100))\n",
    "algo_de = pg.algorithm(pg.de(gen=100))\n",
    "algo_pso = pg.algorithm(pg.pso(gen=100))\n",
    "algorithms = [algo_sga, algo_de, algo_pso]"
   ]
  },
  {
   "cell_type": "code",
   "execution_count": 23,
   "metadata": {},
   "outputs": [],
   "source": [
    "xs = []\n",
    "fs = []\n",
    "for algo in algorithms:\n",
    "    population = algo.evolve(pop)\n",
    "    best_x = population.champion_x\n",
    "    best_y = population.champion_f\n",
    "    xs.append(np.round(best_x, 4))\n",
    "    fs.append(np.round(best_y, 4))"
   ]
  },
  {
   "cell_type": "code",
   "execution_count": 24,
   "metadata": {},
   "outputs": [],
   "source": [
    "results = pd.DataFrame({'Алгоритм': ['Стохастический генетический алгоритм',\n",
    "                                     'Алгоритм дифференциальной эволюции',\n",
    "                                     'Алгоритм частиц роя'],\n",
    "                        'Найденное значение x_min': xs,\n",
    "                        'f(x_min)': fs})"
   ]
  },
  {
   "cell_type": "code",
   "execution_count": 25,
   "metadata": {},
   "outputs": [
    {
     "data": {
      "text/html": [
       "<div>\n",
       "<style scoped>\n",
       "    .dataframe tbody tr th:only-of-type {\n",
       "        vertical-align: middle;\n",
       "    }\n",
       "\n",
       "    .dataframe tbody tr th {\n",
       "        vertical-align: top;\n",
       "    }\n",
       "\n",
       "    .dataframe thead th {\n",
       "        text-align: right;\n",
       "    }\n",
       "</style>\n",
       "<table border=\"1\" class=\"dataframe\">\n",
       "  <thead>\n",
       "    <tr style=\"text-align: right;\">\n",
       "      <th></th>\n",
       "      <th>Алгоритм</th>\n",
       "      <th>Найденное значение x_min</th>\n",
       "      <th>f(x_min)</th>\n",
       "    </tr>\n",
       "  </thead>\n",
       "  <tbody>\n",
       "    <tr>\n",
       "      <th>0</th>\n",
       "      <td>Стохастический генетический алгоритм</td>\n",
       "      <td>[1.0244, 2.964]</td>\n",
       "      <td>[0.0024]</td>\n",
       "    </tr>\n",
       "    <tr>\n",
       "      <th>1</th>\n",
       "      <td>Алгоритм дифференциальной эволюции</td>\n",
       "      <td>[1.092, 2.9491]</td>\n",
       "      <td>[0.0178]</td>\n",
       "    </tr>\n",
       "    <tr>\n",
       "      <th>2</th>\n",
       "      <td>Алгоритм частиц роя</td>\n",
       "      <td>[1.0, 3.0]</td>\n",
       "      <td>[0.0]</td>\n",
       "    </tr>\n",
       "  </tbody>\n",
       "</table>\n",
       "</div>"
      ],
      "text/plain": [
       "                               Алгоритм Найденное значение x_min  f(x_min)\n",
       "0  Стохастический генетический алгоритм          [1.0244, 2.964]  [0.0024]\n",
       "1    Алгоритм дифференциальной эволюции          [1.092, 2.9491]  [0.0178]\n",
       "2                   Алгоритм частиц роя               [1.0, 3.0]     [0.0]"
      ]
     },
     "execution_count": 25,
     "metadata": {},
     "output_type": "execute_result"
    }
   ],
   "source": [
    "results"
   ]
  },
  {
   "cell_type": "markdown",
   "metadata": {},
   "source": [
    "## Фунция Химмельблау"
   ]
  },
  {
   "cell_type": "code",
   "execution_count": 27,
   "metadata": {},
   "outputs": [],
   "source": [
    "problem = TestFuncProblem(himmelblau_func,\n",
    "                           ([-5, -5], [5, 5]))"
   ]
  },
  {
   "cell_type": "code",
   "execution_count": 28,
   "metadata": {},
   "outputs": [],
   "source": [
    "prob = pg.problem(problem)\n",
    "pop = pg.population(prob, size=100)"
   ]
  },
  {
   "cell_type": "code",
   "execution_count": 29,
   "metadata": {},
   "outputs": [],
   "source": [
    "algo_sga = pg.algorithm(pg.sga(gen=100))\n",
    "algo_de = pg.algorithm(pg.de(gen=100))\n",
    "algo_pso = pg.algorithm(pg.pso(gen=100))\n",
    "algorithms = [algo_sga, algo_de, algo_pso]"
   ]
  },
  {
   "cell_type": "code",
   "execution_count": 30,
   "metadata": {},
   "outputs": [],
   "source": [
    "xs = []\n",
    "fs = []\n",
    "for algo in algorithms:\n",
    "    population = algo.evolve(pop)\n",
    "    best_x = population.champion_x\n",
    "    best_y = population.champion_f\n",
    "    xs.append(np.round(best_x, 4))\n",
    "    fs.append(np.round(best_y, 4))"
   ]
  },
  {
   "cell_type": "code",
   "execution_count": 31,
   "metadata": {},
   "outputs": [],
   "source": [
    "results = pd.DataFrame({'Алгоритм': ['Стохастический генетический алгоритм',\n",
    "                                     'Алгоритм дифференциальной эволюции',\n",
    "                                     'Алгоритм частиц роя'],\n",
    "                        'Найденное значение x_min': xs,\n",
    "                        'f(x_min)': fs})"
   ]
  },
  {
   "cell_type": "code",
   "execution_count": 32,
   "metadata": {},
   "outputs": [
    {
     "data": {
      "text/html": [
       "<div>\n",
       "<style scoped>\n",
       "    .dataframe tbody tr th:only-of-type {\n",
       "        vertical-align: middle;\n",
       "    }\n",
       "\n",
       "    .dataframe tbody tr th {\n",
       "        vertical-align: top;\n",
       "    }\n",
       "\n",
       "    .dataframe thead th {\n",
       "        text-align: right;\n",
       "    }\n",
       "</style>\n",
       "<table border=\"1\" class=\"dataframe\">\n",
       "  <thead>\n",
       "    <tr style=\"text-align: right;\">\n",
       "      <th></th>\n",
       "      <th>Алгоритм</th>\n",
       "      <th>Найденное значение x_min</th>\n",
       "      <th>f(x_min)</th>\n",
       "    </tr>\n",
       "  </thead>\n",
       "  <tbody>\n",
       "    <tr>\n",
       "      <th>0</th>\n",
       "      <td>Стохастический генетический алгоритм</td>\n",
       "      <td>[-2.789, 3.1358]</td>\n",
       "      <td>[0.0093]</td>\n",
       "    </tr>\n",
       "    <tr>\n",
       "      <th>1</th>\n",
       "      <td>Алгоритм дифференциальной эволюции</td>\n",
       "      <td>[3.0, 2.0003]</td>\n",
       "      <td>[0.0]</td>\n",
       "    </tr>\n",
       "    <tr>\n",
       "      <th>2</th>\n",
       "      <td>Алгоритм частиц роя</td>\n",
       "      <td>[3.5844, -1.8481]</td>\n",
       "      <td>[0.0]</td>\n",
       "    </tr>\n",
       "  </tbody>\n",
       "</table>\n",
       "</div>"
      ],
      "text/plain": [
       "                               Алгоритм Найденное значение x_min  f(x_min)\n",
       "0  Стохастический генетический алгоритм         [-2.789, 3.1358]  [0.0093]\n",
       "1    Алгоритм дифференциальной эволюции            [3.0, 2.0003]     [0.0]\n",
       "2                   Алгоритм частиц роя        [3.5844, -1.8481]     [0.0]"
      ]
     },
     "execution_count": 32,
     "metadata": {},
     "output_type": "execute_result"
    }
   ],
   "source": [
    "results"
   ]
  }
 ],
 "metadata": {
  "kernelspec": {
   "display_name": "base",
   "language": "python",
   "name": "python3"
  },
  "language_info": {
   "codemirror_mode": {
    "name": "ipython",
    "version": 3
   },
   "file_extension": ".py",
   "mimetype": "text/x-python",
   "name": "python",
   "nbconvert_exporter": "python",
   "pygments_lexer": "ipython3",
   "version": "3.11.5"
  }
 },
 "nbformat": 4,
 "nbformat_minor": 2
}
